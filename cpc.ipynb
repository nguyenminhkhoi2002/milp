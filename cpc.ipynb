{
 "cells": [
  {
   "cell_type": "code",
   "execution_count": 1,
   "metadata": {},
   "outputs": [],
   "source": [
    "from pyomo.environ import *\n",
    "from pyomo.opt import SolverFactory\n",
    "import json"
   ]
  },
  {
   "cell_type": "code",
   "execution_count": 2,
   "metadata": {},
   "outputs": [],
   "source": [
    "def read_graph(file):\n",
    "    with open(file, \"r\") as f:\n",
    "        first_line = f.readline().strip().split()\n",
    "        vnf_types = int(first_line[0])\n",
    "        second_line = int(f.readline().strip())\n",
    "        list_servers = {}\n",
    "        list_swtiches = {}\n",
    "        for _ in range(second_line):\n",
    "            line = f.readline().strip().split()\n",
    "            description = {}\n",
    "            if int(line[2]) != -1:\n",
    "                description[\"delay\"] = int(line[1])\n",
    "                description[\"active_cost\"] = int(line[2])\n",
    "                list_cosst = [int(line[3 + j]) for j in range(vnf_types)]\n",
    "                description[\"list_install_cost\"] = list_cosst\n",
    "                list_servers[int(line[0])] = description\n",
    "            else:\n",
    "                description[\"delay\"] = int(line[1])\n",
    "                list_swtiches[int(line[0])] = description\n",
    "        number_edges = int(f.readline().strip())\n",
    "        edges = {(int(line[0]), int(line[1])): int(line[2]) for line in [f.readline().strip().split() for _ in range(number_edges)]}\n",
    "        list_vnfs = list(range(vnf_types))\n",
    "    return list_servers, list_swtiches, edges, list_vnfs"
   ]
  },
  {
   "cell_type": "code",
   "execution_count": 3,
   "metadata": {},
   "outputs": [],
   "source": [
    "server_detail ,switch_detail ,edge_detail, VNFs = read_graph(\"input.txt\")"
   ]
  },
  {
   "cell_type": "code",
   "execution_count": 6,
   "metadata": {},
   "outputs": [],
   "source": [
    "def read_sfc(filepath):\n",
    "    try:\n",
    "        with open(filepath, \"r\") as f:\n",
    "            nums_request = int(f.readline().strip())\n",
    "            list_request = []\n",
    "            for _ in range(nums_request):\n",
    "                line = f.readline().strip().split()\n",
    "                description = {\n",
    "                    'memory': int(line[0]),\n",
    "                    'bandwidth': int(line[1]),\n",
    "                    'cpu': int(line[2]),\n",
    "                    'source': int(line[3]),\n",
    "                    'destination': int(line[4]),\n",
    "                    'vnfs_chain': [int(v) for v in line[5:]]\n",
    "                }\n",
    "                list_request.append(description)\n",
    "        with open(\"request.json\", \"w\") as outfile:\n",
    "            json.dump(list_request, outfile, indent=4)\n",
    "        return list_request\n",
    "    except Exception as e:\n",
    "        print(e)\n",
    "        return None"
   ]
  },
  {
   "cell_type": "code",
   "execution_count": null,
   "metadata": {},
   "outputs": [],
   "source": [
    "request_detail = read_sfc(\"request10.txt\")"
   ]
  },
  {
   "cell_type": "code",
   "execution_count": 16,
   "metadata": {},
   "outputs": [],
   "source": [
    "server_detail, switch_detail, edge_detail, VNFs = read_graph(\"input.txt\")\n",
    "request_detail = read_sfc(\"request10.txt\")\n",
    "R = list(range(len(request_detail)))\n",
    "V = list(server_detail.keys())\n",
    "S = list(switch_detail.keys())\n",
    "E = list(edge_detail.keys())"
   ]
  },
  {
   "cell_type": "code",
   "execution_count": 14,
   "metadata": {},
   "outputs": [],
   "source": [
    "model = ConcreteModel()"
   ]
  },
  {
   "cell_type": "code",
   "execution_count": null,
   "metadata": {},
   "outputs": [],
   "source": [
    "model.V = Set(initialize=V)\n",
    "model.S = Set(initialize=S)\n",
    "model.E = Set(initialize=E)\n",
    "model.VNFs = Set(initialize=VNFs)\n",
    "model.R = Set(initialize=R)"
   ]
  },
  {
   "cell_type": "code",
   "execution_count": 19,
   "metadata": {},
   "outputs": [],
   "source": [
    "# tạo các biến quyết định\n",
    "# x_v = 1 nếu v được kích hoạt, 0 nếu không\n",
    "model.x = Var(model.V,  within=Binary)\n",
    "# Biến x_{vk}^j: VNF f_k được phục vụ trong máy chủ v cho dịch vụ j\n",
    "model.x_j_vk = Var(model.V, model.VNFs, model.R, within=Binary)\n",
    "# Biến x'_{vk}: f_k được cài đặt trên máy chủ v cho bất kỳ dịch vụ nào\n",
    "model.x_prime_vk = Var(model.V, model.VNFs, within=Binary)\n",
    "# Biến y_{vu}^j: SFC r_j đi qua liên kết (v, u) hoặc (u, v)\n",
    "model.y_j_vu = Var(model.E, model.R, within=Binary)"
   ]
  },
  {
   "cell_type": "code",
   "execution_count": 20,
   "metadata": {},
   "outputs": [],
   "source": [
    "#tính bandwidth tối đa có thể của mỗi cạnh\n",
    "def max_bandwidth(request_detal):\n",
    "    max_bandwith = 0\n",
    "    for i in range(len(request_detal)):\n",
    "        max_bandwith += request_detal[i]['bandwidth']*(len(request_detal[i]['vnfs_chain'])+1) \n",
    "    return max_bandwith\n",
    "\n",
    "\n",
    "#tính memory tối đa có thể của mỗi switch_node\n",
    "def max_memory(request_detal):\n",
    "    max_memory = 0\n",
    "    for i in range(len(request_detal)):\n",
    "        max_memory += request_detal[i]['memory']*(len(request_detal[i]['vnfs_chain'])+1)\n",
    "    return max_memory\n",
    "\n",
    "\n",
    "#tính cpu tối đa có thể của mối server_node\n",
    "def max_cpu(request_detal):\n",
    "    max_cpu = 0\n",
    "    for i in range(len(request_detal)):\n",
    "        max_cpu += request_detal[i]['cpu']*(len(request_detal[i]['vnfs_chain']))\n",
    "    return max_cpu"
   ]
  },
  {
   "cell_type": "code",
   "execution_count": 21,
   "metadata": {},
   "outputs": [],
   "source": [
    "bandwidth_limit = max_bandwidth(request_detail)\n",
    "memory_limit = max_memory(request_detail)\n",
    "cpu_limit = max_cpu(request_detail)"
   ]
  },
  {
   "cell_type": "code",
   "execution_count": null,
   "metadata": {},
   "outputs": [],
   "source": [
    "def minimum_delay(E,V,R,VNF,request_detal,y_vu_j,x_j_vk,server_detail,edge_detail):\n",
    "    edge_delay = 0\n",
    "    server_delay = 0\n",
    "    for index in R:\n",
    "        for (u,v) in E:\n",
    "            edge_delay += y_vu_j[u,v,index]*edge_detail[(u,v)]\n",
    "        for v in V:\n",
    "            for f in VNF:\n",
    "                if f in request_detal[index]['vnfs_chain']:\n",
    "                    server_delay+=x_j_vk[v,f,index] * server_detail[v]['delay']\n",
    "    current_delay = edge_delay+server_delay\n",
    "    max_delay = 0\n",
    "    for i in edge_detail.values():\n",
    "        max_delay+=i\n",
    "    for s in server_detail.keys():\n",
    "        max_delay+=server_detail[s]['delay']\n",
    "    max_delay*=len(R)\n",
    "    return current_delay/max_delay\n",
    "\n",
    "def minimum_cost_active(V,server_detail,x):\n",
    "    cost_active = 0\n",
    "    for i in V:\n",
    "        cost_active+=x[i]*server_detail[i]['active_cost']\n",
    "    max_cost = sum(server_detail[i]['active_cost'] for i in server_detail)\n",
    "    return cost_active/max_cost\n",
    "\n",
    "def minimum_cost_install_vnf(V,VNF,x,x_prime_vk,server_detail):\n",
    "    cost_install  = 0\n",
    "    for i in V:\n",
    "        for fk in VNF:\n",
    "            cost_install+=x[i]*x_prime_vk[i,fk] * server_detail[i]['list_install_cost'][fk]\n",
    "    max_cost_install = 0\n",
    "    for i in server_detail.keys():\n",
    "        for j in server_detail[i]['list_install_cost']:\n",
    "            max_cost_install+=j\n",
    "    return cost_install/max_cost_install"
   ]
  },
  {
   "cell_type": "code",
   "execution_count": null,
   "metadata": {},
   "outputs": [],
   "source": [
    "def bandwidth_rule(model):\n",
    "    return (sum(model.y_j_vu[e,r]*request_detail[r]['bandwidth'] for e in model.E for r in model.R) <= bandwidth_limit)\n",
    "def memory_rule(model):\n",
    "    return (sum(model.x[v]*server_detail[v]['memory'] for v in model.V) <= memory_limit)"
   ]
  },
  {
   "cell_type": "code",
   "execution_count": null,
   "metadata": {},
   "outputs": [],
   "source": [
    "def objective_function(model):\n",
    "    return minimum_delay(model.E,model.V,model.R,model.VNFs,request_detail,model.y_j_vu,model.x_j_vk,server_detail,edge_detail) + minimum_cost_active(model.V,server_detail,model.x) + minimum_cost_install_vnf(model.V,model.VNFs,model.x,model.x_prime_vk,server_detail)\n",
    "model.objective = Objective(rule=objective_function, sense=minimize)\n"
   ]
  }
 ],
 "metadata": {
  "kernelspec": {
   "display_name": "Python 3",
   "language": "python",
   "name": "python3"
  },
  "language_info": {
   "codemirror_mode": {
    "name": "ipython",
    "version": 3
   },
   "file_extension": ".py",
   "mimetype": "text/x-python",
   "name": "python",
   "nbconvert_exporter": "python",
   "pygments_lexer": "ipython3",
   "version": "3.12.3"
  }
 },
 "nbformat": 4,
 "nbformat_minor": 2
}
