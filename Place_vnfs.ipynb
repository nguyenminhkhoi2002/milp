{
 "cells": [
  {
   "cell_type": "code",
   "execution_count": 103,
   "id": "initial_id",
   "metadata": {
    "ExecuteTime": {
     "end_time": "2024-03-20T10:31:44.428377Z",
     "start_time": "2024-03-20T10:31:44.425936Z"
    },
    "collapsed": true
   },
   "outputs": [],
   "source": [
    "import random"
   ]
  },
  {
   "cell_type": "code",
   "execution_count": null,
   "id": "eb5949ea",
   "metadata": {},
   "outputs": [
    {
     "ename": "ModuleNotFoundError",
     "evalue": "No module named 'distutils'",
     "output_type": "error",
     "traceback": [
      "\u001b[1;31m---------------------------------------------------------------------------\u001b[0m",
      "\u001b[1;31mModuleNotFoundError\u001b[0m                       Traceback (most recent call last)",
      "Cell \u001b[1;32mIn[139], line 1\u001b[0m\n\u001b[1;32m----> 1\u001b[0m \u001b[43mget_ipython\u001b[49m\u001b[43m(\u001b[49m\u001b[43m)\u001b[49m\u001b[38;5;241;43m.\u001b[39;49m\u001b[43mrun_line_magic\u001b[49m\u001b[43m(\u001b[49m\u001b[38;5;124;43m'\u001b[39;49m\u001b[38;5;124;43mload_ext\u001b[39;49m\u001b[38;5;124;43m'\u001b[39;49m\u001b[43m,\u001b[49m\u001b[43m \u001b[49m\u001b[38;5;124;43m'\u001b[39;49m\u001b[38;5;124;43mmemory_profiler\u001b[39;49m\u001b[38;5;124;43m'\u001b[39;49m\u001b[43m)\u001b[49m\n",
      "File \u001b[1;32m~\\AppData\\Roaming\\Python\\Python312\\site-packages\\IPython\\core\\interactiveshell.py:2480\u001b[0m, in \u001b[0;36mInteractiveShell.run_line_magic\u001b[1;34m(self, magic_name, line, _stack_depth)\u001b[0m\n\u001b[0;32m   2478\u001b[0m     kwargs[\u001b[38;5;124m'\u001b[39m\u001b[38;5;124mlocal_ns\u001b[39m\u001b[38;5;124m'\u001b[39m] \u001b[38;5;241m=\u001b[39m \u001b[38;5;28mself\u001b[39m\u001b[38;5;241m.\u001b[39mget_local_scope(stack_depth)\n\u001b[0;32m   2479\u001b[0m \u001b[38;5;28;01mwith\u001b[39;00m \u001b[38;5;28mself\u001b[39m\u001b[38;5;241m.\u001b[39mbuiltin_trap:\n\u001b[1;32m-> 2480\u001b[0m     result \u001b[38;5;241m=\u001b[39m \u001b[43mfn\u001b[49m\u001b[43m(\u001b[49m\u001b[38;5;241;43m*\u001b[39;49m\u001b[43margs\u001b[49m\u001b[43m,\u001b[49m\u001b[43m \u001b[49m\u001b[38;5;241;43m*\u001b[39;49m\u001b[38;5;241;43m*\u001b[39;49m\u001b[43mkwargs\u001b[49m\u001b[43m)\u001b[49m\n\u001b[0;32m   2482\u001b[0m \u001b[38;5;66;03m# The code below prevents the output from being displayed\u001b[39;00m\n\u001b[0;32m   2483\u001b[0m \u001b[38;5;66;03m# when using magics with decorator @output_can_be_silenced\u001b[39;00m\n\u001b[0;32m   2484\u001b[0m \u001b[38;5;66;03m# when the last Python token in the expression is a ';'.\u001b[39;00m\n\u001b[0;32m   2485\u001b[0m \u001b[38;5;28;01mif\u001b[39;00m \u001b[38;5;28mgetattr\u001b[39m(fn, magic\u001b[38;5;241m.\u001b[39mMAGIC_OUTPUT_CAN_BE_SILENCED, \u001b[38;5;28;01mFalse\u001b[39;00m):\n",
      "File \u001b[1;32m~\\AppData\\Roaming\\Python\\Python312\\site-packages\\IPython\\core\\magics\\extension.py:33\u001b[0m, in \u001b[0;36mExtensionMagics.load_ext\u001b[1;34m(self, module_str)\u001b[0m\n\u001b[0;32m     31\u001b[0m \u001b[38;5;28;01mif\u001b[39;00m \u001b[38;5;129;01mnot\u001b[39;00m module_str:\n\u001b[0;32m     32\u001b[0m     \u001b[38;5;28;01mraise\u001b[39;00m UsageError(\u001b[38;5;124m'\u001b[39m\u001b[38;5;124mMissing module name.\u001b[39m\u001b[38;5;124m'\u001b[39m)\n\u001b[1;32m---> 33\u001b[0m res \u001b[38;5;241m=\u001b[39m \u001b[38;5;28;43mself\u001b[39;49m\u001b[38;5;241;43m.\u001b[39;49m\u001b[43mshell\u001b[49m\u001b[38;5;241;43m.\u001b[39;49m\u001b[43mextension_manager\u001b[49m\u001b[38;5;241;43m.\u001b[39;49m\u001b[43mload_extension\u001b[49m\u001b[43m(\u001b[49m\u001b[43mmodule_str\u001b[49m\u001b[43m)\u001b[49m\n\u001b[0;32m     35\u001b[0m \u001b[38;5;28;01mif\u001b[39;00m res \u001b[38;5;241m==\u001b[39m \u001b[38;5;124m'\u001b[39m\u001b[38;5;124malready loaded\u001b[39m\u001b[38;5;124m'\u001b[39m:\n\u001b[0;32m     36\u001b[0m     \u001b[38;5;28mprint\u001b[39m(\u001b[38;5;124m\"\u001b[39m\u001b[38;5;124mThe \u001b[39m\u001b[38;5;132;01m%s\u001b[39;00m\u001b[38;5;124m extension is already loaded. To reload it, use:\u001b[39m\u001b[38;5;124m\"\u001b[39m \u001b[38;5;241m%\u001b[39m module_str)\n",
      "File \u001b[1;32m~\\AppData\\Roaming\\Python\\Python312\\site-packages\\IPython\\core\\extensions.py:62\u001b[0m, in \u001b[0;36mExtensionManager.load_extension\u001b[1;34m(self, module_str)\u001b[0m\n\u001b[0;32m     55\u001b[0m \u001b[38;5;250m\u001b[39m\u001b[38;5;124;03m\"\"\"Load an IPython extension by its module name.\u001b[39;00m\n\u001b[0;32m     56\u001b[0m \n\u001b[0;32m     57\u001b[0m \u001b[38;5;124;03mReturns the string \"already loaded\" if the extension is already loaded,\u001b[39;00m\n\u001b[0;32m     58\u001b[0m \u001b[38;5;124;03m\"no load function\" if the module doesn't have a load_ipython_extension\u001b[39;00m\n\u001b[0;32m     59\u001b[0m \u001b[38;5;124;03mfunction, or None if it succeeded.\u001b[39;00m\n\u001b[0;32m     60\u001b[0m \u001b[38;5;124;03m\"\"\"\u001b[39;00m\n\u001b[0;32m     61\u001b[0m \u001b[38;5;28;01mtry\u001b[39;00m:\n\u001b[1;32m---> 62\u001b[0m     \u001b[38;5;28;01mreturn\u001b[39;00m \u001b[38;5;28;43mself\u001b[39;49m\u001b[38;5;241;43m.\u001b[39;49m\u001b[43m_load_extension\u001b[49m\u001b[43m(\u001b[49m\u001b[43mmodule_str\u001b[49m\u001b[43m)\u001b[49m\n\u001b[0;32m     63\u001b[0m \u001b[38;5;28;01mexcept\u001b[39;00m \u001b[38;5;167;01mModuleNotFoundError\u001b[39;00m:\n\u001b[0;32m     64\u001b[0m     \u001b[38;5;28;01mif\u001b[39;00m module_str \u001b[38;5;129;01min\u001b[39;00m BUILTINS_EXTS:\n",
      "File \u001b[1;32m~\\AppData\\Roaming\\Python\\Python312\\site-packages\\IPython\\core\\extensions.py:79\u001b[0m, in \u001b[0;36mExtensionManager._load_extension\u001b[1;34m(self, module_str)\u001b[0m\n\u001b[0;32m     77\u001b[0m     mod \u001b[38;5;241m=\u001b[39m import_module(module_str)\n\u001b[0;32m     78\u001b[0m mod \u001b[38;5;241m=\u001b[39m sys\u001b[38;5;241m.\u001b[39mmodules[module_str]\n\u001b[1;32m---> 79\u001b[0m \u001b[38;5;28;01mif\u001b[39;00m \u001b[38;5;28;43mself\u001b[39;49m\u001b[38;5;241;43m.\u001b[39;49m\u001b[43m_call_load_ipython_extension\u001b[49m\u001b[43m(\u001b[49m\u001b[43mmod\u001b[49m\u001b[43m)\u001b[49m:\n\u001b[0;32m     80\u001b[0m     \u001b[38;5;28mself\u001b[39m\u001b[38;5;241m.\u001b[39mloaded\u001b[38;5;241m.\u001b[39madd(module_str)\n\u001b[0;32m     81\u001b[0m \u001b[38;5;28;01melse\u001b[39;00m:\n",
      "File \u001b[1;32m~\\AppData\\Roaming\\Python\\Python312\\site-packages\\IPython\\core\\extensions.py:129\u001b[0m, in \u001b[0;36mExtensionManager._call_load_ipython_extension\u001b[1;34m(self, mod)\u001b[0m\n\u001b[0;32m    127\u001b[0m \u001b[38;5;28;01mdef\u001b[39;00m \u001b[38;5;21m_call_load_ipython_extension\u001b[39m(\u001b[38;5;28mself\u001b[39m, mod):\n\u001b[0;32m    128\u001b[0m     \u001b[38;5;28;01mif\u001b[39;00m \u001b[38;5;28mhasattr\u001b[39m(mod, \u001b[38;5;124m'\u001b[39m\u001b[38;5;124mload_ipython_extension\u001b[39m\u001b[38;5;124m'\u001b[39m):\n\u001b[1;32m--> 129\u001b[0m         \u001b[43mmod\u001b[49m\u001b[38;5;241;43m.\u001b[39;49m\u001b[43mload_ipython_extension\u001b[49m\u001b[43m(\u001b[49m\u001b[38;5;28;43mself\u001b[39;49m\u001b[38;5;241;43m.\u001b[39;49m\u001b[43mshell\u001b[49m\u001b[43m)\u001b[49m\n\u001b[0;32m    130\u001b[0m         \u001b[38;5;28;01mreturn\u001b[39;00m \u001b[38;5;28;01mTrue\u001b[39;00m\n",
      "File \u001b[1;32mc:\\Users\\Hi\\AppData\\Local\\Programs\\Python\\Python312\\Lib\\site-packages\\memory_profiler.py:1160\u001b[0m, in \u001b[0;36mload_ipython_extension\u001b[1;34m(ip)\u001b[0m\n\u001b[0;32m   1157\u001b[0m \u001b[38;5;28;01mdef\u001b[39;00m \u001b[38;5;21mload_ipython_extension\u001b[39m(ip):\n\u001b[0;32m   1158\u001b[0m \u001b[38;5;250m    \u001b[39m\u001b[38;5;124;03m\"\"\"This is called to load the module as an IPython extension.\"\"\"\u001b[39;00m\n\u001b[1;32m-> 1160\u001b[0m     \u001b[43mMemoryProfilerMagics\u001b[49m\u001b[38;5;241;43m.\u001b[39;49m\u001b[43mregister_magics\u001b[49m\u001b[43m(\u001b[49m\u001b[43mip\u001b[49m\u001b[43m)\u001b[49m\n",
      "File \u001b[1;32mc:\\Users\\Hi\\AppData\\Local\\Programs\\Python\\Python312\\Lib\\site-packages\\memory_profiler.py:1134\u001b[0m, in \u001b[0;36mMemoryProfilerMagics.register_magics\u001b[1;34m(cls, ip)\u001b[0m\n\u001b[0;32m   1132\u001b[0m \u001b[38;5;129m@classmethod\u001b[39m\n\u001b[0;32m   1133\u001b[0m \u001b[38;5;28;01mdef\u001b[39;00m \u001b[38;5;21mregister_magics\u001b[39m(\u001b[38;5;28mcls\u001b[39m, ip):\n\u001b[1;32m-> 1134\u001b[0m     \u001b[38;5;28;01mfrom\u001b[39;00m \u001b[38;5;21;01mdistutils\u001b[39;00m\u001b[38;5;21;01m.\u001b[39;00m\u001b[38;5;21;01mversion\u001b[39;00m \u001b[38;5;28;01mimport\u001b[39;00m LooseVersion\n\u001b[0;32m   1135\u001b[0m     \u001b[38;5;28;01mimport\u001b[39;00m \u001b[38;5;21;01mIPython\u001b[39;00m\n\u001b[0;32m   1136\u001b[0m     ipython_version \u001b[38;5;241m=\u001b[39m LooseVersion(IPython\u001b[38;5;241m.\u001b[39m__version__)\n",
      "\u001b[1;31mModuleNotFoundError\u001b[0m: No module named 'distutils'"
     ]
    }
   ],
   "source": []
  },
  {
   "cell_type": "code",
   "execution_count": 104,
   "id": "5743dc59a8affe79",
   "metadata": {
    "ExecuteTime": {
     "end_time": "2024-03-20T10:31:44.451249Z",
     "start_time": "2024-03-20T10:31:44.444389Z"
    },
    "collapsed": false
   },
   "outputs": [],
   "source": [
    "import json\n",
    "\n",
    "def read_graph(path: str): # return graph, max_install_each_node, max_latency, max_cost_active, max_cost_install, list_server_node (đọc đồ thị )\n",
    "    try:\n",
    "        file = open(path, \"r\")\n",
    "        first_line = file.readline().split(\" \")\n",
    "        num_vnf = int(first_line[0])\n",
    "        max_install_each_node = int(first_line[1])\n",
    "        second_line = int(file.readline())\n",
    "        set_node = {}\n",
    "        list_server_node = []\n",
    "        max_latency = 0\n",
    "        max_cost_active = 0\n",
    "        max_cost_install = 0\n",
    "        for i in range(second_line):\n",
    "            line = file.readline().replace(\"\\n\", \"\").split(\" \")\n",
    "            description = {}\n",
    "            if int(line[2]) != -1:\n",
    "                description[\"delay\"] = int(line[1])\n",
    "                max_latency += int(line[1])\n",
    "                description[\"active_cost\"] = int(line[2])\n",
    "                max_cost_active += int(line[2])\n",
    "\n",
    "                list_cosst = []\n",
    "                for j in range(num_vnf):\n",
    "                    list_cosst.append(int(line[3 + j]))\n",
    "                    max_cost_install += int(line[3 + j])\n",
    "                description[\"list_install_cost\"] = list_cosst\n",
    "                set_node.update({int(line[0]): description})\n",
    "            else:\n",
    "                description[\"delay\"] = int(line[1])\n",
    "                set_node.update({int(line[0]): description})\n",
    "        num_edges = int(file.readline())\n",
    "\n",
    "        for i in range(num_edges):\n",
    "            line = file.readline().replace(\"\\n\", \"\").split(\" \")\n",
    "            description_node1 = set_node.get(int(line[0]), {})\n",
    "            description_node2 = set_node.get(int(line[1]), {})\n",
    "            neighbor1 = description_node1.get(\"neighbor\", {})\n",
    "            neighbor2 = description_node2.get(\"neighbor\", {})\n",
    "            neighbor1.update({int(line[1]): int(line[2])})\n",
    "            neighbor2.update({int(line[0]): int(line[2])})\n",
    "            max_latency += int(line[2])\n",
    "            description_node1.update({\"neighbor\": neighbor1})\n",
    "            description_node2.update({\"neighbor\": neighbor2})\n",
    "            set_node.update({int(line[0]): description_node1})\n",
    "            set_node.update({int(line[1]): description_node2})\n",
    "            graphviz_string += str(line[0]) + \" -- \" + str(line[1]) + \";\\n\"\n",
    "        file.close()\n",
    "        with open(\"graph.json\", \"w\") as outfile:\n",
    "            json.dump(set_node, outfile, indent=4)\n",
    "\n",
    "        # graphviz_string = \"graph G {\\n\"\n",
    "        # for i in range(len(set_node)):\n",
    "        #     if set_node[i].get(\"is_server\", False):\n",
    "        #         graphviz_string += str(i) + \" [color=red, style=filled];\\n\"\n",
    "        #     else:\n",
    "        #         graphviz_string += str(i) + \";\\n\"\n",
    "        # for i in range(len(set_node)):\n",
    "        #     neighbor = set_node[i].get(\"neighbor\", {})\n",
    "        #     for j in neighbor:\n",
    "        #         graphviz_string += str(i) + \" -- \" + str(j) +\";\\n\"\n",
    "        graphviz_string += \"}\"\n",
    "        with open(\"input.dot\", \"w\") as outfile:\n",
    "            outfile.write(graphviz_string)\n",
    "        return set_node, max_install_each_node, max_latency, max_cost_active, max_cost_install, list_server_node\n",
    "    except Exception as e:\n",
    "        print(e)\n",
    "        return None\n"
   ]
  },
  {
   "cell_type": "code",
   "execution_count": 105,
   "id": "c769b8af42e843ef",
   "metadata": {
    "ExecuteTime": {
     "end_time": "2024-03-20T10:31:44.503513Z",
     "start_time": "2024-03-20T10:31:44.493266Z"
    },
    "collapsed": false
   },
   "outputs": [
    {
     "data": {
      "text/plain": [
       "44867"
      ]
     },
     "execution_count": 105,
     "metadata": {},
     "output_type": "execute_result"
    }
   ],
   "source": [
    "graph, max_install_each_node, max_latency, max_cost_active, max_cost_install, list_server_node = read_graph(\"input.txt\")\n",
    "max_latency"
   ]
  },
  {
   "cell_type": "code",
   "execution_count": 106,
   "id": "af1e14dc58051857",
   "metadata": {
    "ExecuteTime": {
     "end_time": "2024-03-20T10:31:44.509429Z",
     "start_time": "2024-03-20T10:31:44.504535Z"
    },
    "collapsed": false
   },
   "outputs": [],
   "source": [
    "def read_request(path:str=\"request10.txt\"):\n",
    "    try:\n",
    "        file = open(path, \"r\")\n",
    "\n",
    "        nums_request = int(file.readline())\n",
    "        list_request = []\n",
    "        for i in range(nums_request):\n",
    "            line = file.readline().replace(\"\\n\", \"\").split(\" \")\n",
    "            description = {}\n",
    "            description['memory'] = int(line[0])\n",
    "            description['bandwidth'] = int(line[1])\n",
    "            description['cpu'] = int(line[2])\n",
    "            description['source'] = int(line[3])\n",
    "            description['destination'] = int(line[4])\n",
    "            vnfs_chain = []\n",
    "            for i in range (5, len(line)):\n",
    "                vnfs_chain.append(int(line[i]))\n",
    "            description['vnfs_chain'] = vnfs_chain\n",
    "            list_request.append(description)\n",
    "        file.close()\n",
    "        with open(\"request.json\", \"w\") as outfile:\n",
    "            json.dump(list_request, outfile, indent=4)\n",
    "        return list_request\n",
    "    except Exception as e:\n",
    "        print(e)\n",
    "        return None"
   ]
  },
  {
   "cell_type": "code",
   "execution_count": 107,
   "id": "7e88699e7fe7ab73",
   "metadata": {
    "ExecuteTime": {
     "end_time": "2024-03-20T10:31:44.521079Z",
     "start_time": "2024-03-20T10:31:44.513436Z"
    },
    "collapsed": false
   },
   "outputs": [
    {
     "data": {
      "text/plain": [
       "[{'memory': 14,\n",
       "  'bandwidth': 22,\n",
       "  'cpu': 10,\n",
       "  'source': 19,\n",
       "  'destination': 13,\n",
       "  'vnfs_chain': [2, 8, 3]},\n",
       " {'memory': 28,\n",
       "  'bandwidth': 16,\n",
       "  'cpu': 21,\n",
       "  'source': 48,\n",
       "  'destination': 67,\n",
       "  'vnfs_chain': [2, 8, 1]},\n",
       " {'memory': 13,\n",
       "  'bandwidth': 13,\n",
       "  'cpu': 14,\n",
       "  'source': 82,\n",
       "  'destination': 20,\n",
       "  'vnfs_chain': [3, 9, 0, 7]},\n",
       " {'memory': 25,\n",
       "  'bandwidth': 14,\n",
       "  'cpu': 25,\n",
       "  'source': 84,\n",
       "  'destination': 8,\n",
       "  'vnfs_chain': [3, 4, 3, 0]},\n",
       " {'memory': 22,\n",
       "  'bandwidth': 24,\n",
       "  'cpu': 25,\n",
       "  'source': 38,\n",
       "  'destination': 12,\n",
       "  'vnfs_chain': [1, 9]},\n",
       " {'memory': 37,\n",
       "  'bandwidth': 20,\n",
       "  'cpu': 14,\n",
       "  'source': 97,\n",
       "  'destination': 30,\n",
       "  'vnfs_chain': [3, 0, 6, 7]},\n",
       " {'memory': 15,\n",
       "  'bandwidth': 26,\n",
       "  'cpu': 19,\n",
       "  'source': 35,\n",
       "  'destination': 67,\n",
       "  'vnfs_chain': [3, 4, 9, 1]},\n",
       " {'memory': 16,\n",
       "  'bandwidth': 14,\n",
       "  'cpu': 15,\n",
       "  'source': 25,\n",
       "  'destination': 14,\n",
       "  'vnfs_chain': [3, 4, 1, 3]},\n",
       " {'memory': 9,\n",
       "  'bandwidth': 19,\n",
       "  'cpu': 21,\n",
       "  'source': 77,\n",
       "  'destination': 93,\n",
       "  'vnfs_chain': [3, 3, 0, 3]},\n",
       " {'memory': 19,\n",
       "  'bandwidth': 20,\n",
       "  'cpu': 20,\n",
       "  'source': 95,\n",
       "  'destination': 50,\n",
       "  'vnfs_chain': [3, 0, 9, 0]}]"
      ]
     },
     "execution_count": 107,
     "metadata": {},
     "output_type": "execute_result"
    }
   ],
   "source": [
    "requests = read_request(\"request10.txt\")\n",
    "requests"
   ]
  },
  {
   "cell_type": "code",
   "execution_count": 108,
   "id": "44cdd080882d39ca",
   "metadata": {
    "ExecuteTime": {
     "end_time": "2024-03-20T10:31:44.547698Z",
     "start_time": "2024-03-20T10:31:44.544098Z"
    },
    "collapsed": false
   },
   "outputs": [],
   "source": [
    "def shortes_path(graph,source, destination): # return path from source to destination\n",
    "    visited = [False] * len(graph)\n",
    "    distance = [float('inf')] * len(graph)\n",
    "    path = [-1] * len(graph)\n",
    "    distance[source] = 0\n",
    "    for i in range(len(graph)):\n",
    "        min_distance = float('inf')\n",
    "        min_index = -1\n",
    "        for j in range(len(graph)):\n",
    "            if visited[j] == False and distance[j] < min_distance:\n",
    "                min_distance = distance[j]\n",
    "                min_index = j\n",
    "        visited[min_index] = True\n",
    "        neighbor = graph[min_index].get(\"neighbor\", {})\n",
    "        for j in neighbor:\n",
    "            if visited[j] == False and distance[j] > distance[min_index] + neighbor[j]:\n",
    "                distance[j] = distance[min_index] + neighbor[j]\n",
    "                path[j] = min_index\n",
    "    path_result = []\n",
    "    while destination != -1:\n",
    "        path_result.append(destination)\n",
    "        destination = path[destination]\n",
    "    return path_result[::-1]"
   ]
  },
  {
   "cell_type": "code",
   "execution_count": 109,
   "id": "310307e5961d62af",
   "metadata": {
    "ExecuteTime": {
     "end_time": "2024-03-20T10:31:44.565241Z",
     "start_time": "2024-03-20T10:31:44.560714Z"
    },
    "collapsed": false
   },
   "outputs": [
    {
     "data": {
      "text/plain": [
       "[10, 15, 5]"
      ]
     },
     "execution_count": 109,
     "metadata": {},
     "output_type": "execute_result"
    }
   ],
   "source": [
    "path_demo = shortes_path(graph, 10, 5)\n",
    "path_demo"
   ]
  },
  {
   "cell_type": "code",
   "execution_count": 110,
   "id": "8cf313d185d85b84",
   "metadata": {
    "ExecuteTime": {
     "end_time": "2024-03-20T10:31:44.571441Z",
     "start_time": "2024-03-20T10:31:44.566258Z"
    },
    "collapsed": false
   },
   "outputs": [],
   "source": [
    "def place_vnfs(request, list_server_node):\n",
    "    nums_vnfs = len(request['vnfs_chain'])\n",
    "    node_choosen = random.sample(list_server_node, nums_vnfs)\n",
    "    return node_choosen\n",
    "\n"
   ]
  },
  {
   "cell_type": "code",
   "execution_count": 111,
   "id": "1eeeff3d4f69ade5",
   "metadata": {
    "ExecuteTime": {
     "end_time": "2024-03-20T10:31:44.581012Z",
     "start_time": "2024-03-20T10:31:44.577463Z"
    },
    "collapsed": false
   },
   "outputs": [
    {
     "data": {
      "text/plain": [
       "[33, 46, 65]"
      ]
     },
     "execution_count": 111,
     "metadata": {},
     "output_type": "execute_result"
    }
   ],
   "source": [
    "place_vnfs(requests[0], list_server_node)"
   ]
  },
  {
   "cell_type": "code",
   "execution_count": 112,
   "id": "3fab027b4ab0243f",
   "metadata": {
    "ExecuteTime": {
     "end_time": "2024-03-20T10:31:44.607105Z",
     "start_time": "2024-03-20T10:31:44.603035Z"
    },
    "collapsed": false
   },
   "outputs": [],
   "source": [
    "def define_path_each_request(graph, request, list_server_node,): # trả lại 1 gen gồm đường đi và vị trí cài đặt vnf\n",
    "    \n",
    "    node_choosen = place_vnfs(request, list_server_node)\n",
    "    node_choosen2 = node_choosen.copy()\n",
    "    source_node = request['source']\n",
    "    destination_node = request['destination']\n",
    "    if node_choosen[0] != source_node:\n",
    "        node_choosen.insert(0, source_node)\n",
    "    if node_choosen[-1] != destination_node:\n",
    "        node_choosen.append(destination_node)\n",
    "    path = shortes_path(graph, node_choosen[0], node_choosen[1])\n",
    "    for i in range(1,len(node_choosen) - 2):\n",
    "        sub_path = shortes_path(graph, node_choosen[i], node_choosen[i+1])[1:]\n",
    "        path += sub_path\n",
    "    sub_path = shortes_path(graph, node_choosen[-2], node_choosen[-1])[1:]\n",
    "    return (node_choosen2,path+sub_path)\n"
   ]
  },
  {
   "cell_type": "code",
   "execution_count": 113,
   "id": "13cbbd96",
   "metadata": {},
   "outputs": [
    {
     "name": "stdout",
     "output_type": "stream",
     "text": [
      "([33, 75, 17], [19, 5, 15, 20, 33, 43, 40, 46, 49, 56, 75, 56, 49, 46, 40, 36, 35, 29, 23, 17, 9, 13])\n"
     ]
    }
   ],
   "source": [
    "path_demo_request_0 = define_path_each_request(graph, requests[0], list_server_node)\n",
    "print(path_demo_request_0)"
   ]
  },
  {
   "cell_type": "code",
   "execution_count": 114,
   "id": "1e3c3556a516fe09",
   "metadata": {
    "ExecuteTime": {
     "end_time": "2024-03-20T10:31:44.621906Z",
     "start_time": "2024-03-20T10:31:44.618128Z"
    },
    "collapsed": false
   },
   "outputs": [],
   "source": [
    "def init_individual(graph, list_request, list_server_node): # trả lại 1 cá thể\n",
    "    individual = []\n",
    "    for request in list_request:\n",
    "        individual.append(define_path_each_request(graph, request, list_server_node))\n",
    "    return individual\n"
   ]
  },
  {
   "cell_type": "code",
   "execution_count": 115,
   "id": "a39789089a9a2800",
   "metadata": {
    "ExecuteTime": {
     "end_time": "2024-03-20T10:31:44.716265Z",
     "start_time": "2024-03-20T10:31:44.631923Z"
    },
    "collapsed": false
   },
   "outputs": [],
   "source": [
    "individual = init_individual(graph, requests, list_server_node)\n",
    "with open(\"individual.json\", \"w\") as outfile:\n",
    "    json.dump(individual, outfile, indent=4)"
   ]
  },
  {
   "cell_type": "code",
   "execution_count": 116,
   "id": "dcbc4700e1ba2437",
   "metadata": {
    "ExecuteTime": {
     "end_time": "2024-03-20T10:31:44.720837Z",
     "start_time": "2024-03-20T10:31:44.717289Z"
    },
    "collapsed": false
   },
   "outputs": [],
   "source": [
    "def resource_limit(set_request): # trả lại giới hạn tài nguyên dùng để tính toán các ràng buộc \n",
    "    cpu_limit = 0\n",
    "    memory_limit = 0\n",
    "    bandwidth_limit = 0\n",
    "    for request in set_request:\n",
    "        nums_vnf = len(request.get(\"vnfs_chain\"))\n",
    "        cpu_limit += request.get(\"cpu\") * nums_vnf\n",
    "        memory_limit += request.get(\"memory\") * (nums_vnf + 1)\n",
    "        bandwidth_limit += request.get(\"bandwidth\") * (nums_vnf + 1)\n",
    "    return cpu_limit, memory_limit, bandwidth_limit"
   ]
  },
  {
   "cell_type": "code",
   "execution_count": 117,
   "id": "b69346299c1cbd76",
   "metadata": {
    "ExecuteTime": {
     "end_time": "2024-03-20T10:31:44.728780Z",
     "start_time": "2024-03-20T10:31:44.721852Z"
    },
    "collapsed": false
   },
   "outputs": [],
   "source": [
    "def verify_banwidth(individual ,max_bandwidth, requests):# valind bandwidth\n",
    "    bandwidth_sum = {}\n",
    "    for index,gen in enumerate(individual):\n",
    "        path = gen[1]\n",
    "        for i in range(len(path)-1):\n",
    "            u = path[i]\n",
    "            v = path[i+1]\n",
    "            if (u,v) in bandwidth_sum:\n",
    "                bandwidth_sum[(u,v)] += requests[index].get(\"bandwidth\")\n",
    "            else:\n",
    "                bandwidth_sum[(u,v)] = requests[index].get(\"bandwidth\")\n",
    "    for key in bandwidth_sum:\n",
    "        if bandwidth_sum[key] > max_bandwidth:\n",
    "            return False\n",
    "    return True\n",
    "\n",
    "def verify_cpu(individual, max_cpu, requests): # valind cpu\n",
    "    cpu_sum = {}\n",
    "    for index,gen in enumerate(individual):\n",
    "        path = gen[0]\n",
    "        for node in path:\n",
    "            if node in cpu_sum:\n",
    "                cpu_sum[node] += requests[index].get(\"cpu\")\n",
    "            else:\n",
    "                cpu_sum[node] = requests[index].get(\"cpu\")\n",
    "    for key in cpu_sum:\n",
    "        if cpu_sum[key] > max_cpu:\n",
    "            return False\n",
    "    return True\n",
    "\n",
    "def verify_memory(individual, max_memory, graph, requests): # valind memory\n",
    "    memory_sum = {}\n",
    "    for index,gen in enumerate(individual):\n",
    "        path = gen[1]\n",
    "        for node in path:\n",
    "            if graph[node]['is_server'] == False:\n",
    "                if node in memory_sum:\n",
    "                    memory_sum[node] += requests[index].get(\"memory\")\n",
    "                else:\n",
    "                    memory_sum[node] = requests[index].get(\"memory\")\n",
    "                # memory_sum[node] = memory_sum.get(node,0) + requests[index].get(\"memory\")\n",
    "    for key in memory_sum:\n",
    "        if memory_sum[key] > max_memory:\n",
    "            return False\n",
    "    return True\n",
    "\n",
    "def verify_vnf_each_node(individual, max_install): # valind vnf each server node\n",
    "    vnf_count = {}\n",
    "    for gen in individual:\n",
    "        path = gen[0]\n",
    "        for node in path:\n",
    "            vnf_count[node] = vnf_count.get(node,0) + 1\n",
    "    for key in vnf_count:\n",
    "        if vnf_count[key] > max_install:\n",
    "            return False\n",
    "    return True\n",
    "    \n",
    "        \n",
    "    "
   ]
  },
  {
   "cell_type": "code",
   "execution_count": 118,
   "id": "2c7f3b1359e68140",
   "metadata": {
    "ExecuteTime": {
     "end_time": "2024-03-20T10:31:44.734918Z",
     "start_time": "2024-03-20T10:31:44.729796Z"
    },
    "collapsed": false
   },
   "outputs": [],
   "source": [
    "cpu_limit, memory_limit, bandwidth_limit = resource_limit(requests)"
   ]
  },
  {
   "cell_type": "code",
   "execution_count": 119,
   "id": "3f52d786afee91d7",
   "metadata": {
    "ExecuteTime": {
     "end_time": "2024-03-20T10:31:44.742338Z",
     "start_time": "2024-03-20T10:31:44.735934Z"
    },
    "collapsed": false
   },
   "outputs": [
    {
     "data": {
      "text/plain": [
       "True"
      ]
     },
     "execution_count": 119,
     "metadata": {},
     "output_type": "execute_result"
    }
   ],
   "source": [
    "verify_banwidth(individual, bandwidth_limit, requests)\n",
    "# caculate_cpu(individual, max_cpu, requests) \n",
    "# caculate_memory(individual, max_memory, graph, requests) \n",
    "# caculate_vnf_each_node(individual, max_install_each_node)\n"
   ]
  },
  {
   "cell_type": "code",
   "execution_count": 120,
   "id": "c2ed337f8d227581",
   "metadata": {
    "ExecuteTime": {
     "end_time": "2024-03-20T10:31:44.748418Z",
     "start_time": "2024-03-20T10:31:44.743348Z"
    },
    "collapsed": false
   },
   "outputs": [],
   "source": [
    "def valid_condition(individual, max_bandwidth, max_cpu, max_memory, max_install, graph, requests):\n",
    "    if verify_banwidth(individual, max_bandwidth, requests) and verify_cpu(individual, max_cpu, requests) and verify_memory(individual, max_memory, graph, requests): #and caculate_vnf_each_node(individual, max_install):\n",
    "        return True\n",
    "    return False"
   ]
  },
  {
   "cell_type": "code",
   "execution_count": 121,
   "id": "8b56580c12b95e02",
   "metadata": {
    "ExecuteTime": {
     "end_time": "2024-03-20T10:31:44.755252Z",
     "start_time": "2024-03-20T10:31:44.749435Z"
    },
    "collapsed": false
   },
   "outputs": [],
   "source": [
    "def latency_of_all_requests(graph, individual, max_latency):\n",
    "    latency = 0\n",
    "    for gen in individual:\n",
    "        path = gen[1]\n",
    "        for i in range(len(path)-1):\n",
    "            u = path[i]\n",
    "            v = path[i+1]\n",
    "            latency += graph[u][\"neighbor\"][v]\n",
    "    for gen in individual:\n",
    "        path = gen[0]\n",
    "        for i in path:\n",
    "            latency += graph[i][\"delay\"]\n",
    "    return latency / (max_latency*len(individual))\n",
    "    "
   ]
  },
  {
   "cell_type": "code",
   "execution_count": 122,
   "id": "67b43d740eac784f",
   "metadata": {
    "ExecuteTime": {
     "end_time": "2024-03-20T10:31:44.762574Z",
     "start_time": "2024-03-20T10:31:44.756264Z"
    },
    "collapsed": false
   },
   "outputs": [
    {
     "data": {
      "text/plain": [
       "0.3303697595114449"
      ]
     },
     "execution_count": 122,
     "metadata": {},
     "output_type": "execute_result"
    }
   ],
   "source": [
    "latency_demo = latency_of_all_requests(graph, individual, max_latency)\n",
    "latency_demo\n"
   ]
  },
  {
   "cell_type": "code",
   "execution_count": 123,
   "id": "d1f8d0be213688a5",
   "metadata": {
    "ExecuteTime": {
     "end_time": "2024-03-20T10:31:44.768763Z",
     "start_time": "2024-03-20T10:31:44.763597Z"
    },
    "collapsed": false
   },
   "outputs": [],
   "source": [
    "def cost_deploy_server_node(graph, individual, max_cost_active):\n",
    "    cost = 0\n",
    "    set_server = set()\n",
    "    for gen in individual:\n",
    "        path = gen[0]\n",
    "        for i in path:\n",
    "            set_server.add(i)\n",
    "    for i in set_server:\n",
    "        cost += graph[i][\"active_cost\"]\n",
    "    return cost / max_cost_active\n"
   ]
  },
  {
   "cell_type": "code",
   "execution_count": 124,
   "id": "f69396d49420a87a",
   "metadata": {
    "ExecuteTime": {
     "end_time": "2024-03-20T10:31:44.776455Z",
     "start_time": "2024-03-20T10:31:44.770781Z"
    },
    "collapsed": false
   },
   "outputs": [
    {
     "data": {
      "text/plain": [
       "1.0"
      ]
     },
     "execution_count": 124,
     "metadata": {},
     "output_type": "execute_result"
    }
   ],
   "source": [
    "cost_deploy_demo = cost_deploy_server_node(graph, individual, max_cost_active)\n",
    "cost_deploy_demo"
   ]
  },
  {
   "cell_type": "code",
   "execution_count": 125,
   "id": "764787688970eca8",
   "metadata": {
    "ExecuteTime": {
     "end_time": "2024-03-20T10:47:48.092505Z",
     "start_time": "2024-03-20T10:47:48.087670Z"
    },
    "collapsed": false
   },
   "outputs": [],
   "source": [
    "def cost_install_vnf(individual, max_cost_install, requests,graph):\n",
    "    cost = 0\n",
    "    for index,gen in enumerate(individual):\n",
    "        path = gen[0]\n",
    "        for i,server_node in enumerate(path):\n",
    "            cost += graph[server_node][\"list_install_cost\"][requests[index].get(\"vnfs_chain\")[i]]\n",
    "    return cost / max_cost_install\n"
   ]
  },
  {
   "cell_type": "code",
   "execution_count": 126,
   "id": "16dc1b73422493ff",
   "metadata": {
    "ExecuteTime": {
     "end_time": "2024-03-20T10:47:49.060616Z",
     "start_time": "2024-03-20T10:47:49.055783Z"
    },
    "collapsed": false
   },
   "outputs": [
    {
     "data": {
      "text/plain": [
       "0.3361267754495305"
      ]
     },
     "execution_count": 126,
     "metadata": {},
     "output_type": "execute_result"
    }
   ],
   "source": [
    "cost_install_demo = cost_install_vnf(individual, max_cost_install, requests,graph)\n",
    "cost_install_demo"
   ]
  },
  {
   "cell_type": "code",
   "execution_count": 127,
   "id": "ab0545773fee071b",
   "metadata": {
    "ExecuteTime": {
     "end_time": "2024-03-20T10:48:21.036553Z",
     "start_time": "2024-03-20T10:48:21.032978Z"
    },
    "collapsed": false
   },
   "outputs": [],
   "source": [
    "def finness_function(individual, graph, requests, max_latency, max_cost_active, max_cost_install):\n",
    "    return latency_of_all_requests(graph, individual, max_latency) + cost_deploy_server_node(graph, individual, max_cost_active) + cost_install_vnf(individual, max_cost_install, requests,graph)\n",
    "  \n"
   ]
  },
  {
   "cell_type": "code",
   "execution_count": 128,
   "id": "e0d3055aaa85c456",
   "metadata": {
    "ExecuteTime": {
     "end_time": "2024-03-20T10:48:22.028724Z",
     "start_time": "2024-03-20T10:48:22.016153Z"
    },
    "collapsed": false
   },
   "outputs": [
    {
     "data": {
      "text/plain": [
       "1.6664965349609755"
      ]
     },
     "execution_count": 128,
     "metadata": {},
     "output_type": "execute_result"
    }
   ],
   "source": [
    "finess_demo = finness_function(individual,graph, requests, max_latency, max_cost_active, max_cost_install)\n",
    "finess_demo"
   ]
  },
  {
   "cell_type": "code",
   "execution_count": 129,
   "id": "6bb724d20e6d15b",
   "metadata": {
    "ExecuteTime": {
     "end_time": "2024-03-20T10:31:44.823794Z",
     "start_time": "2024-03-20T10:31:44.820211Z"
    },
    "collapsed": false
   },
   "outputs": [],
   "source": [
    "def generate_population(population_size, graph, requests, list_server_node, bandwidth_limit, cpu_limit, memory_limit, max_install):\n",
    "    population = []\n",
    "    for i in range(population_size):\n",
    "        individual = init_individual(graph, requests, list_server_node)\n",
    "        if valid_condition(individual, bandwidth_limit, cpu_limit, memory_limit, max_install, graph, requests):\n",
    "            population.append(individual)\n",
    "    return population"
   ]
  },
  {
   "cell_type": "code",
   "execution_count": 130,
   "id": "14af905614e4534a",
   "metadata": {
    "ExecuteTime": {
     "end_time": "2024-03-20T10:31:44.851248Z",
     "start_time": "2024-03-20T10:31:44.840807Z"
    },
    "collapsed": false
   },
   "outputs": [],
   "source": [
    "population = generate_population(50, graph, requests, list_server_node, bandwidth_limit, cpu_limit, memory_limit, max_install_each_node)\n",
    "with open(\"population.json\", \"w\") as outfile:\n",
    "    json.dump(population, outfile, indent=4)"
   ]
  },
  {
   "cell_type": "code",
   "execution_count": 131,
   "id": "4aa4e951f8e15076",
   "metadata": {
    "ExecuteTime": {
     "end_time": "2024-03-20T10:31:44.920615Z",
     "start_time": "2024-03-20T10:31:44.917265Z"
    },
    "collapsed": false
   },
   "outputs": [],
   "source": [
    "def tournament_selection(population,tournament_size): # return the best individual in tournament\n",
    "    tournament = random.sample(population, tournament_size)\n",
    "    tournament.sort(key = lambda x: finness_function(x,graph, requests, max_latency, max_cost_active, max_cost_install))\n",
    "    return tournament[0]"
   ]
  },
  {
   "cell_type": "code",
   "execution_count": 132,
   "id": "8d32d0c6",
   "metadata": {},
   "outputs": [
    {
     "data": {
      "text/plain": [
       "[([15, 46, 3],\n",
       "  [19, 5, 15, 20, 33, 43, 40, 46, 40, 36, 35, 29, 23, 17, 9, 3, 9, 13]),\n",
       " ([3, 40, 17],\n",
       "  [48,\n",
       "   53,\n",
       "   54,\n",
       "   65,\n",
       "   62,\n",
       "   60,\n",
       "   58,\n",
       "   55,\n",
       "   52,\n",
       "   50,\n",
       "   46,\n",
       "   40,\n",
       "   36,\n",
       "   35,\n",
       "   29,\n",
       "   23,\n",
       "   17,\n",
       "   9,\n",
       "   3,\n",
       "   9,\n",
       "   17,\n",
       "   23,\n",
       "   29,\n",
       "   35,\n",
       "   36,\n",
       "   40,\n",
       "   36,\n",
       "   35,\n",
       "   29,\n",
       "   23,\n",
       "   17,\n",
       "   23,\n",
       "   29,\n",
       "   35,\n",
       "   36,\n",
       "   40,\n",
       "   46,\n",
       "   49,\n",
       "   56,\n",
       "   75,\n",
       "   78,\n",
       "   66,\n",
       "   68,\n",
       "   63,\n",
       "   67]),\n",
       " ([33, 46, 9, 40],\n",
       "  [82,\n",
       "   84,\n",
       "   83,\n",
       "   74,\n",
       "   67,\n",
       "   63,\n",
       "   68,\n",
       "   66,\n",
       "   78,\n",
       "   75,\n",
       "   56,\n",
       "   49,\n",
       "   46,\n",
       "   40,\n",
       "   43,\n",
       "   33,\n",
       "   43,\n",
       "   40,\n",
       "   46,\n",
       "   40,\n",
       "   36,\n",
       "   35,\n",
       "   29,\n",
       "   23,\n",
       "   17,\n",
       "   9,\n",
       "   17,\n",
       "   23,\n",
       "   29,\n",
       "   35,\n",
       "   36,\n",
       "   40,\n",
       "   43,\n",
       "   33,\n",
       "   20]),\n",
       " ([3, 65, 75, 40],\n",
       "  [84,\n",
       "   83,\n",
       "   74,\n",
       "   67,\n",
       "   63,\n",
       "   68,\n",
       "   66,\n",
       "   78,\n",
       "   75,\n",
       "   56,\n",
       "   49,\n",
       "   46,\n",
       "   40,\n",
       "   36,\n",
       "   35,\n",
       "   29,\n",
       "   23,\n",
       "   17,\n",
       "   9,\n",
       "   3,\n",
       "   9,\n",
       "   17,\n",
       "   23,\n",
       "   29,\n",
       "   35,\n",
       "   36,\n",
       "   40,\n",
       "   46,\n",
       "   50,\n",
       "   52,\n",
       "   55,\n",
       "   58,\n",
       "   60,\n",
       "   62,\n",
       "   65,\n",
       "   62,\n",
       "   67,\n",
       "   63,\n",
       "   68,\n",
       "   66,\n",
       "   78,\n",
       "   75,\n",
       "   56,\n",
       "   49,\n",
       "   46,\n",
       "   40,\n",
       "   36,\n",
       "   35,\n",
       "   29,\n",
       "   23,\n",
       "   17,\n",
       "   12,\n",
       "   7,\n",
       "   8]),\n",
       " ([65, 9],\n",
       "  [38,\n",
       "   29,\n",
       "   35,\n",
       "   36,\n",
       "   40,\n",
       "   46,\n",
       "   50,\n",
       "   52,\n",
       "   55,\n",
       "   58,\n",
       "   60,\n",
       "   62,\n",
       "   65,\n",
       "   62,\n",
       "   60,\n",
       "   58,\n",
       "   55,\n",
       "   52,\n",
       "   50,\n",
       "   46,\n",
       "   40,\n",
       "   36,\n",
       "   35,\n",
       "   29,\n",
       "   23,\n",
       "   17,\n",
       "   9,\n",
       "   17,\n",
       "   12]),\n",
       " ([17, 75, 15, 32],\n",
       "  [97,\n",
       "   99,\n",
       "   100,\n",
       "   94,\n",
       "   87,\n",
       "   85,\n",
       "   83,\n",
       "   74,\n",
       "   67,\n",
       "   63,\n",
       "   68,\n",
       "   66,\n",
       "   78,\n",
       "   75,\n",
       "   56,\n",
       "   49,\n",
       "   46,\n",
       "   40,\n",
       "   36,\n",
       "   35,\n",
       "   29,\n",
       "   23,\n",
       "   17,\n",
       "   23,\n",
       "   29,\n",
       "   35,\n",
       "   36,\n",
       "   40,\n",
       "   46,\n",
       "   49,\n",
       "   56,\n",
       "   75,\n",
       "   56,\n",
       "   49,\n",
       "   46,\n",
       "   40,\n",
       "   43,\n",
       "   33,\n",
       "   20,\n",
       "   15,\n",
       "   20,\n",
       "   33,\n",
       "   43,\n",
       "   40,\n",
       "   36,\n",
       "   35,\n",
       "   29,\n",
       "   23,\n",
       "   17,\n",
       "   9,\n",
       "   13,\n",
       "   32,\n",
       "   13,\n",
       "   9,\n",
       "   17,\n",
       "   23,\n",
       "   29,\n",
       "   35,\n",
       "   26,\n",
       "   21,\n",
       "   30]),\n",
       " ([33, 15, 75, 65],\n",
       "  [35,\n",
       "   36,\n",
       "   40,\n",
       "   43,\n",
       "   33,\n",
       "   20,\n",
       "   15,\n",
       "   20,\n",
       "   33,\n",
       "   43,\n",
       "   40,\n",
       "   46,\n",
       "   49,\n",
       "   56,\n",
       "   75,\n",
       "   78,\n",
       "   66,\n",
       "   68,\n",
       "   63,\n",
       "   67,\n",
       "   62,\n",
       "   65,\n",
       "   62,\n",
       "   67]),\n",
       " ([65, 9, 15, 32],\n",
       "  [25,\n",
       "   20,\n",
       "   33,\n",
       "   43,\n",
       "   40,\n",
       "   46,\n",
       "   50,\n",
       "   52,\n",
       "   55,\n",
       "   58,\n",
       "   60,\n",
       "   62,\n",
       "   65,\n",
       "   62,\n",
       "   60,\n",
       "   58,\n",
       "   55,\n",
       "   52,\n",
       "   50,\n",
       "   46,\n",
       "   40,\n",
       "   36,\n",
       "   35,\n",
       "   29,\n",
       "   23,\n",
       "   17,\n",
       "   9,\n",
       "   17,\n",
       "   23,\n",
       "   29,\n",
       "   35,\n",
       "   36,\n",
       "   40,\n",
       "   43,\n",
       "   33,\n",
       "   20,\n",
       "   15,\n",
       "   20,\n",
       "   33,\n",
       "   43,\n",
       "   40,\n",
       "   36,\n",
       "   35,\n",
       "   29,\n",
       "   23,\n",
       "   17,\n",
       "   9,\n",
       "   13,\n",
       "   32,\n",
       "   31,\n",
       "   22,\n",
       "   14]),\n",
       " ([46, 17, 75, 65],\n",
       "  [77,\n",
       "   73,\n",
       "   72,\n",
       "   75,\n",
       "   56,\n",
       "   49,\n",
       "   46,\n",
       "   40,\n",
       "   36,\n",
       "   35,\n",
       "   29,\n",
       "   23,\n",
       "   17,\n",
       "   23,\n",
       "   29,\n",
       "   35,\n",
       "   36,\n",
       "   40,\n",
       "   46,\n",
       "   49,\n",
       "   56,\n",
       "   75,\n",
       "   78,\n",
       "   66,\n",
       "   68,\n",
       "   63,\n",
       "   67,\n",
       "   62,\n",
       "   65,\n",
       "   54,\n",
       "   57,\n",
       "   59,\n",
       "   64,\n",
       "   69,\n",
       "   79,\n",
       "   86,\n",
       "   93]),\n",
       " ([65, 32, 15, 17],\n",
       "  [95,\n",
       "   96,\n",
       "   97,\n",
       "   99,\n",
       "   100,\n",
       "   94,\n",
       "   87,\n",
       "   85,\n",
       "   83,\n",
       "   74,\n",
       "   67,\n",
       "   62,\n",
       "   65,\n",
       "   62,\n",
       "   60,\n",
       "   58,\n",
       "   55,\n",
       "   52,\n",
       "   50,\n",
       "   46,\n",
       "   40,\n",
       "   36,\n",
       "   35,\n",
       "   29,\n",
       "   23,\n",
       "   17,\n",
       "   9,\n",
       "   13,\n",
       "   32,\n",
       "   13,\n",
       "   9,\n",
       "   17,\n",
       "   23,\n",
       "   29,\n",
       "   35,\n",
       "   36,\n",
       "   40,\n",
       "   43,\n",
       "   33,\n",
       "   20,\n",
       "   15,\n",
       "   20,\n",
       "   33,\n",
       "   43,\n",
       "   40,\n",
       "   36,\n",
       "   35,\n",
       "   29,\n",
       "   23,\n",
       "   17,\n",
       "   23,\n",
       "   29,\n",
       "   35,\n",
       "   36,\n",
       "   40,\n",
       "   46,\n",
       "   50])]"
      ]
     },
     "execution_count": 132,
     "metadata": {},
     "output_type": "execute_result"
    }
   ],
   "source": [
    "tournament_selection(population, 5)"
   ]
  },
  {
   "cell_type": "code",
   "execution_count": 133,
   "id": "c2514f34",
   "metadata": {},
   "outputs": [],
   "source": [
    "def crossover(individual1, individual2, attemp = 100): # return 2 children\n",
    "    # thực hiện cắt ghép tối đa 100 lần, nếu không tìm được cá thể hợp lệ thì trả lại 2 cá thể ban đầu\n",
    "    for i in range(attemp):\n",
    "        point = random.randint(0, len(individual1))\n",
    "        child1 = individual1[:point] + individual2[point:]\n",
    "        child2 = individual2[:point] + individual1[point:]\n",
    "        if valid_condition(child1, bandwidth_limit, cpu_limit, memory_limit, max_install_each_node, graph, requests) and valid_condition(child2, bandwidth_limit, cpu_limit, memory_limit, max_install_each_node, graph, requests):\n",
    "            return child1, child2\n",
    "    return individual1, individual2"
   ]
  },
  {
   "cell_type": "code",
   "execution_count": 134,
   "id": "99e19b98",
   "metadata": {},
   "outputs": [],
   "source": [
    "def mutate(individual, attemp = 100): # thực hiện đột biến tối đa 100 lần, nếu không tìm được cá thể hợp lệ thì trả lại cá thể ban đầu\n",
    "    if random.random() < 0.1:\n",
    "        for i in range(attemp):\n",
    "            point = random.randint(0, len(individual)-1)\n",
    "            individual[point] = define_path_each_request(graph, requests[point], list_server_node)\n",
    "            if valid_condition(individual, bandwidth_limit, cpu_limit, memory_limit, max_install_each_node, graph, requests):\n",
    "                return individual\n",
    "        return individual\n",
    "    return individual\n",
    "   "
   ]
  },
  {
   "cell_type": "code",
   "execution_count": 144,
   "id": "81db2ffe",
   "metadata": {},
   "outputs": [],
   "source": [
    "def genetic_algorithm(num_generation,population_size, tournament_size, elite_rate= 0.5):\n",
    "    population = generate_population(population_size, graph, requests, list_server_node, bandwidth_limit, cpu_limit, memory_limit, max_install_each_node)\n",
    "    sorted_population = sorted(population, key = lambda x: finness_function(x,graph, requests, max_latency, max_cost_active, max_cost_install))\n",
    "    elite_size = int(population_size * elite_rate)\n",
    "    population = sorted_population[:elite_size]\n",
    "    for generation in range(num_generation):\n",
    "        new_population = []\n",
    "        for i in range(elite_size,population_size):\n",
    "            parent1 = tournament_selection(population, tournament_size)\n",
    "            parent2 = tournament_selection(population, tournament_size)\n",
    "            child1, child2 = crossover(parent1, parent2)\n",
    "            child1 = mutate(child1)\n",
    "            child2 = mutate(child2)\n",
    "            new_population.append(child1)\n",
    "            new_population.append(child2)\n",
    "        population = new_population\n",
    "        population = sorted(population, key = lambda x: finness_function(x,graph, requests, max_latency, max_cost_active, max_cost_install))\n",
    "    return population[0]"
   ]
  },
  {
   "cell_type": "code",
   "execution_count": null,
   "id": "dbacdfb7",
   "metadata": {},
   "outputs": [],
   "source": []
  },
  {
   "cell_type": "code",
   "execution_count": 140,
   "id": "a1ec7539",
   "metadata": {},
   "outputs": [],
   "source": [
    "def cost_install_vnf2(individual, max_cost_install, requests,graph):\n",
    "    cost = 0\n",
    "    for index,gen in enumerate(individual):\n",
    "        path = gen[0]\n",
    "        for i,server_node in enumerate(path):\n",
    "            cost += graph[server_node][\"list_install_cost\"][requests[index].get(\"vnfs_chain\")[i]]\n",
    "    return cost"
   ]
  },
  {
   "cell_type": "code",
   "execution_count": 141,
   "id": "16bdab02",
   "metadata": {},
   "outputs": [],
   "source": [
    "def latency_of_all_requests2(graph, individual, max_latency):\n",
    "    latency = 0\n",
    "    for gen in individual:\n",
    "        path = gen[1]\n",
    "        for i in range(len(path)-1):\n",
    "            u = path[i]\n",
    "            v = path[i+1]\n",
    "            latency += graph[u][\"neighbor\"][v]\n",
    "    for gen in individual:\n",
    "        path = gen[0]\n",
    "        for i in path:\n",
    "            latency += graph[i][\"delay\"]\n",
    "    return latency "
   ]
  },
  {
   "cell_type": "code",
   "execution_count": 145,
   "id": "8cf42328",
   "metadata": {},
   "outputs": [
    {
     "name": "stdout",
     "output_type": "stream",
     "text": [
      "[([40, 33, 46], [19, 28, 40, 43, 33, 43, 40, 46, 40, 36, 35, 29, 23, 17, 9, 13]), ([17, 33, 40], [48, 53, 54, 65, 62, 60, 58, 55, 52, 50, 46, 40, 36, 35, 29, 23, 17, 23, 29, 35, 36, 40, 43, 33, 43, 40, 46, 49, 56, 75, 78, 66, 68, 63, 67]), ([75, 46, 40, 17], [82, 84, 83, 74, 67, 63, 68, 66, 78, 75, 56, 49, 46, 40, 36, 35, 29, 23, 17, 23, 29, 35, 36, 40, 43, 33, 20]), ([75, 17, 46, 40], [84, 83, 74, 67, 63, 68, 66, 78, 75, 56, 49, 46, 40, 36, 35, 29, 23, 17, 23, 29, 35, 36, 40, 46, 40, 36, 35, 29, 23, 17, 12, 7, 8]), ([40, 46], [38, 29, 35, 36, 40, 46, 40, 36, 35, 29, 23, 17, 12]), ([75, 46, 17, 3], [97, 99, 100, 94, 87, 85, 83, 74, 67, 63, 68, 66, 78, 75, 56, 49, 46, 40, 36, 35, 29, 23, 17, 9, 3, 9, 17, 23, 29, 35, 26, 21, 30]), ([33, 32, 40, 46], [35, 36, 40, 43, 33, 43, 40, 36, 35, 29, 23, 17, 9, 13, 32, 13, 9, 17, 23, 29, 35, 36, 40, 46, 49, 56, 75, 78, 66, 68, 63, 67]), ([46, 40, 3, 17], [25, 20, 33, 43, 40, 46, 40, 36, 35, 29, 23, 17, 9, 3, 9, 17, 9, 13, 32, 31, 22, 14]), ([40, 33, 32, 75], [77, 73, 72, 75, 56, 49, 46, 40, 43, 33, 43, 40, 36, 35, 29, 23, 17, 9, 13, 32, 13, 9, 17, 23, 29, 35, 36, 40, 46, 49, 56, 75, 78, 66, 68, 63, 67, 74, 71, 81, 80, 69, 79, 86, 93]), ([75, 40, 46, 32], [95, 96, 97, 99, 100, 94, 87, 85, 83, 74, 67, 63, 68, 66, 78, 75, 56, 49, 46, 40, 46, 40, 36, 35, 29, 23, 17, 9, 13, 32, 13, 9, 17, 23, 29, 35, 36, 40, 46, 50])]\n",
      "45055\n",
      "111267\n"
     ]
    }
   ],
   "source": [
    "best_individual = genetic_algorithm(100, 50, 5)\n",
    "print(best_individual)\n",
    "print(cost_install_vnf2(best_individual, max_cost_install, requests, graph))\n",
    "print(latency_of_all_requests2(graph, best_individual, max_latency))"
   ]
  }
 ],
 "metadata": {
  "kernelspec": {
   "display_name": "Python 3",
   "language": "python",
   "name": "python3"
  },
  "language_info": {
   "codemirror_mode": {
    "name": "ipython",
    "version": 3
   },
   "file_extension": ".py",
   "mimetype": "text/x-python",
   "name": "python",
   "nbconvert_exporter": "python",
   "pygments_lexer": "ipython3",
   "version": "3.12.3"
  }
 },
 "nbformat": 4,
 "nbformat_minor": 5
}
