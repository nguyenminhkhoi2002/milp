{
 "cells": [
  {
   "cell_type": "code",
   "execution_count": 25,
   "metadata": {},
   "outputs": [],
   "source": [
    "import gurobipy as gp\n",
    "import json\n",
    "from gurobipy import GRB\n",
    "model = gp.Model(\"milp\")\n"
   ]
  },
  {
   "cell_type": "code",
   "execution_count": 26,
   "metadata": {},
   "outputs": [],
   "source": [
    "def read_graph(file):\n",
    "    file = open(file, \"r\")\n",
    "    first_line = file.readline().replace(\"\\n\", \"\").split(\" \")\n",
    "    vnf_types = int(first_line[0])\n",
    "    second_line = int(file.readline())\n",
    "    list_servers = {}\n",
    "    list_swtiches = {}\n",
    "    for i in range(second_line):\n",
    "        line = file.readline().replace(\"\\n\", \"\").split(\" \")\n",
    "        description = {}\n",
    "        if int(line[2]) != -1:\n",
    "            description[\"delay\"] = int(line[1])\n",
    "            description[\"active_cost\"] = int(line[2])\n",
    "            list_cosst = []\n",
    "            for j in range(vnf_types):\n",
    "                list_cosst.append(int(line[3 + j]))\n",
    "            description[\"list_install_cost\"] = list_cosst\n",
    "            list_servers.update({int(line[0]): description})\n",
    "        else:\n",
    "            description[\"delay\"] = int(line[1])\n",
    "            list_swtiches.update({int(line[0]): description})\n",
    "    number_edges = int(file.readline())\n",
    "    edges = dict()\n",
    "    for i in range(number_edges):\n",
    "        line = file.readline().replace(\"\\n\", \"\").split(\" \")\n",
    "        edges[(int(line[0]), int(line[1]))] = int(line[2])\n",
    "    list_vnfs = [i for i in range(vnf_types)]\n",
    "    return list_servers, list_swtiches, edges, list_vnfs\n",
    "\n",
    "def read_sfc(filepath:str):\n",
    "    try:\n",
    "        file = open(filepath, \"r\")\n",
    "\n",
    "        nums_request = int(file.readline())\n",
    "        list_request = []\n",
    "        for i in range(nums_request):\n",
    "            line = file.readline().replace(\"\\n\", \"\").split(\" \")\n",
    "            description = {}\n",
    "            description['memory'] = int(line[0])\n",
    "            description['bandwidth'] = int(line[1])\n",
    "            description['cpu'] = int(line[2])\n",
    "            description['source'] = int(line[3])\n",
    "            description['destination'] = int(line[4])\n",
    "            vnfs_chain = []\n",
    "            for i in range (5, len(line)):\n",
    "                vnfs_chain.append(int(line[i]))\n",
    "            description['vnfs_chain'] = vnfs_chain\n",
    "            list_request.append(description)\n",
    "        file.close()\n",
    "        with open(\"request.json\", \"w\") as outfile:\n",
    "            json.dump(list_request, outfile, indent=4)\n",
    "        return list_request\n",
    "    except Exception as e:\n",
    "        print(e)\n",
    "        return None\n",
    "    \n"
   ]
  },
  {
   "cell_type": "code",
   "execution_count": 27,
   "metadata": {},
   "outputs": [],
   "source": [
    "server_detail ,switch_detail ,edge_detail, VNFs = read_graph(\"input.txt\") # V: servers, S: switches, E: edges, VNF: vnf types\n",
    "\n",
    "request_detail = read_sfc(\"request10.txt\")\n",
    "R = [i for i in range(len(request_detail))]\n",
    "V = list(server_detail.keys())\n",
    "S = list(switch_detail.keys())\n",
    "E = list(edge_detail.keys())\n"
   ]
  },
  {
   "cell_type": "code",
   "execution_count": 28,
   "metadata": {},
   "outputs": [
    {
     "name": "stdout",
     "output_type": "stream",
     "text": [
      "len(V):  10\n",
      "len(S):  94\n",
      "len(E):  116\n",
      "len(VNF):  10\n",
      "len(R):  10\n"
     ]
    }
   ],
   "source": [
    "print(\"len(V): \", len(V))\n",
    "print(\"len(S): \", len(S))\n",
    "print(\"len(E): \", len(E))\n",
    "print(\"len(VNF): \", len(VNFs))\n",
    "print(\"len(R): \", len(R))"
   ]
  },
  {
   "cell_type": "code",
   "execution_count": 29,
   "metadata": {},
   "outputs": [],
   "source": [
    "#tính bandwidth tối đa có thể của mỗi cạnh\n",
    "def max_bandwidth(request_detal):\n",
    "    max_bandwith = 0\n",
    "    for i in range(len(request_detal)):\n",
    "        max_bandwith += request_detal[i]['bandwidth']*(len(request_detal[i]['vnfs_chain'])+1) \n",
    "    return max_bandwith\n",
    "\n",
    "\n",
    "#tính memory tối đa có thể của mỗi switch_node\n",
    "def max_memory(request_detal):\n",
    "    max_memory = 0\n",
    "    for i in range(len(request_detal)):\n",
    "        max_memory += request_detal[i]['memory']*(len(request_detal[i]['vnfs_chain'])+1)\n",
    "    return max_memory\n",
    "\n",
    "\n",
    "#tính cpu tối đa có thể của mối server_node\n",
    "def max_cpu(request_detal):\n",
    "    max_cpu = 0\n",
    "    for i in range(len(request_detal)):\n",
    "        max_cpu += request_detal[i]['cpu']*(len(request_detal[i]['vnfs_chain']))\n",
    "    return max_cpu"
   ]
  },
  {
   "cell_type": "code",
   "execution_count": 30,
   "metadata": {},
   "outputs": [],
   "source": [
    "# Biến x_v: máy chủ v có hoạt động hay không\n",
    "x = model.addVars(V, vtype=GRB.BINARY, name=\"x_v\")\n",
    "\n",
    "# Biến x_{vk}^j: VNF f_k được phục vụ trong máy chủ v cho dịch vụ j\n",
    "x_j_vk = model.addVars(V, VNFs, R, vtype=GRB.BINARY, name=\"x_j_vk\")\n",
    "\n",
    "# Biến x'_{vk}: f_k được cài đặt trên máy chủ v cho bất kỳ dịch vụ nào\n",
    "x_prime_vk = model.addVars(V, VNFs, vtype=GRB.BINARY, name=\"x_prime_vk\")\n",
    "\n",
    "# Biến y_{vu}^j: SFC r_j đi qua liên kết (v, u) hoặc (u, v)\n",
    "y_vu_j = model.addVars(E, R, vtype=GRB.BINARY, name=\"y_vu_j\")\n",
    "\n",
    "\n"
   ]
  },
  {
   "cell_type": "code",
   "execution_count": 31,
   "metadata": {},
   "outputs": [],
   "source": [
    "def minimum_delay(E,V,R,VNF,request_detal,y_vu_j,x_j_vk,server_detail,edge_detail):\n",
    "    edge_delay = 0\n",
    "    server_delay = 0\n",
    "    for index in R:\n",
    "        for (u,v) in E:\n",
    "            edge_delay += y_vu_j[u,v,index]*edge_detail[(u,v)]\n",
    "        for v in V:\n",
    "            for f in VNF:\n",
    "                if f in request_detal[index]['vnfs_chain']:\n",
    "                    server_delay+=x_j_vk[v,f,index] * server_detail[v]['delay']\n",
    "    current_delay = edge_delay+server_delay\n",
    "    max_delay = 0\n",
    "    for i in edge_detail.values():\n",
    "        max_delay+=i\n",
    "    for s in server_detail.keys():\n",
    "        max_delay+=server_detail[s]['delay']\n",
    "    max_delay*=len(R)\n",
    "    return current_delay/max_delay\n",
    "\n",
    "def minimum_cost_active(V,server_detail,x):\n",
    "    cost_active = 0\n",
    "    for i in V:\n",
    "        cost_active+=x[i]*server_detail[i]['active_cost']\n",
    "    max_cost = sum(server_detail[i]['active_cost'] for i in server_detail)\n",
    "    return cost_active/max_cost\n",
    "\n",
    "def minimum_cost_install_vnf(V,VNF,x,x_prime_vk,server_detail):\n",
    "    cost_install  = 0\n",
    "    for i in V:\n",
    "        for fk in VNF:\n",
    "            cost_install+=x[i]*x_prime_vk[i,fk] * server_detail[i]['list_install_cost'][fk]\n",
    "    max_cost_install = 0\n",
    "    for i in server_detail.keys():\n",
    "        for j in server_detail[i]['list_install_cost']:\n",
    "            max_cost_install+=j\n",
    "    return cost_install/max_cost_install\n",
    "\n",
    "\n",
    "        \n",
    "                \n",
    "        "
   ]
  },
  {
   "cell_type": "code",
   "execution_count": 32,
   "metadata": {},
   "outputs": [
    {
     "name": "stdout",
     "output_type": "stream",
     "text": [
      "size V is:  10\n",
      "size S is:  94\n",
      "size E is:  116\n",
      "size VNF is:  10\n",
      "size R is:  10\n"
     ]
    }
   ],
   "source": [
    "print(\"size V is: \", len(V))\n",
    "print(\"size S is: \", len(S))\n",
    "print(\"size E is: \", len(E))\n",
    "print(\"size VNF is: \", len(VNF))\n",
    "print(\"size R is: \", len(R))"
   ]
  },
  {
   "cell_type": "code",
   "execution_count": 33,
   "metadata": {},
   "outputs": [
    {
     "name": "stdout",
     "output_type": "stream",
     "text": [
      "{40: {'delay': 325, 'active_cost': 8177, 'list_install_cost': [1345, 1412, 1020, 1125, 1076, 1801, 1368, 1514, 1848, 1219]}, 17: {'delay': 434, 'active_cost': 8539, 'list_install_cost': [1290, 1549, 1045, 1014, 1749, 1970, 1442, 1918, 1271, 1896]}, 33: {'delay': 412, 'active_cost': 5641, 'list_install_cost': [1799, 1015, 1888, 1651, 1498, 1995, 1336, 1384, 1392, 1788]}, 46: {'delay': 491, 'active_cost': 9206, 'list_install_cost': [1136, 1824, 1532, 1177, 1104, 1619, 1399, 1622, 1612, 1608]}, 65: {'delay': 371, 'active_cost': 7413, 'list_install_cost': [1435, 1912, 1623, 1401, 1731, 1678, 1636, 1997, 1536, 1217]}, 75: {'delay': 436, 'active_cost': 6161, 'list_install_cost': [1628, 1327, 1896, 1049, 1125, 1911, 1619, 1655, 1912, 1729]}, 3: {'delay': 419, 'active_cost': 5809, 'list_install_cost': [1108, 1581, 1978, 1533, 1138, 1624, 1323, 1856, 1656, 1610]}, 9: {'delay': 292, 'active_cost': 6277, 'list_install_cost': [1686, 1353, 1419, 1353, 1954, 1319, 1117, 1716, 1054, 1145]}, 15: {'delay': 262, 'active_cost': 6273, 'list_install_cost': [1629, 1681, 1210, 1191, 1417, 1656, 1084, 1200, 1856, 1478]}, 32: {'delay': 448, 'active_cost': 6335, 'list_install_cost': [1466, 1717, 1861, 1720, 1295, 1718, 1936, 1511, 1578, 1050]}}\n"
     ]
    }
   ],
   "source": [
    "print(server_detail)"
   ]
  },
  {
   "cell_type": "code",
   "execution_count": 34,
   "metadata": {},
   "outputs": [],
   "source": [
    "DL = minimum_delay(E,V,R,VNF,request_detail,y_vu_j,x_j_vk,server_detail,edge_detail)\n",
    "CS = minimum_cost_active(V,server_detail,x)\n",
    "CV = minimum_cost_install_vnf(V,VNF,x,x_prime_vk,server_detail)"
   ]
  },
  {
   "cell_type": "code",
   "execution_count": 35,
   "metadata": {},
   "outputs": [],
   "source": [
    "total_objective = DL+CS+CV\n",
    "model.setObjective(total_objective, GRB.MINIMIZE)"
   ]
  },
  {
   "cell_type": "code",
   "execution_count": 36,
   "metadata": {},
   "outputs": [],
   "source": [
    "bandwidth_limit = max_bandwidth(request_detail)\n",
    "memory_limit = max_memory(request_detail)\n",
    "cpu_limit = max_cpu(request_detail)"
   ]
  },
  {
   "cell_type": "code",
   "execution_count": 37,
   "metadata": {},
   "outputs": [],
   "source": [
    "#thêm ràng buộc cho bandwidth\n",
    "for (u,v) in E:\n",
    "    model.addConstr(gp.quicksum(y_vu_j[u,v,j]*request_detail[j]['bandwidth'] for j in R) <= bandwidth_limit, name=\"bandwidth_limit\")\n",
    "    \n",
    "#thêm ràng buộc cho memory\n",
    "for (u,v) in E:\n",
    "    if u in S:\n",
    "        model.addConstr(gp.quicksum(y_vu_j[u,v,j]*request_detail[j]['memory'] for j in R) <= memory_limit, name=\"memory_limit\")\n",
    "#thêm ràng buộc cho cpu\n",
    "for u in V:\n",
    "    curr_cpu = 0\n",
    "    for j in R:\n",
    "        for k in VNF:\n",
    "            curr_cpu+=x_j_vk[u,k,j]*request_detail[j]['cpu']\n",
    "    model.addConstr(curr_cpu <= cpu_limit, name=\"cpu_limit\")\n",
    "\n",
    "#thêm ràng buộc cho số lượng VNF được cài đặt trên mỗi máy chủ\n",
    "\n",
    "for u in V:\n",
    "    num_install = 0\n",
    "    for k in VNF:\n",
    "            num_install+=x_prime_vk[u,k]\n",
    "    model.addConstr(num_install <= len(VNF), name=\"num_install\")\n",
    "    \n"
   ]
  },
  {
   "cell_type": "code",
   "execution_count": 40,
   "metadata": {},
   "outputs": [
    {
     "name": "stdout",
     "output_type": "stream",
     "text": [
      "2270\n",
      "234\n"
     ]
    }
   ],
   "source": [
    "print(model.NumVars)\n",
    "print(model.NumConstrs)"
   ]
  },
  {
   "cell_type": "code",
   "execution_count": 39,
   "metadata": {},
   "outputs": [
    {
     "name": "stdout",
     "output_type": "stream",
     "text": [
      "Gurobi Optimizer version 11.0.2 build v11.0.2rc0 (win64 - Windows 10.0 (19045.2))\n",
      "\n",
      "CPU model: Intel(R) Core(TM) i3-5005U CPU @ 2.00GHz, instruction set [SSE2|AVX|AVX2]\n",
      "Thread count: 2 physical cores, 4 logical processors, using up to 4 threads\n",
      "\n"
     ]
    },
    {
     "ename": "GurobiError",
     "evalue": "Model too large for size-limited license; visit https://gurobi.com/unrestricted for more information",
     "output_type": "error",
     "traceback": [
      "\u001b[1;31m---------------------------------------------------------------------------\u001b[0m",
      "\u001b[1;31mGurobiError\u001b[0m                               Traceback (most recent call last)",
      "Cell \u001b[1;32mIn[39], line 4\u001b[0m\n\u001b[0;32m      1\u001b[0m \u001b[38;5;66;03m# Reduce the size of the model by applying model simplification techniques such as constraint aggregation or variable reduction.\u001b[39;00m\n\u001b[0;32m      2\u001b[0m \u001b[38;5;66;03m# Then, re-run the optimization.\u001b[39;00m\n\u001b[1;32m----> 4\u001b[0m \u001b[43mmodel\u001b[49m\u001b[38;5;241;43m.\u001b[39;49m\u001b[43moptimize\u001b[49m\u001b[43m(\u001b[49m\u001b[43m)\u001b[49m\n\u001b[0;32m      5\u001b[0m model\u001b[38;5;241m.\u001b[39mwrite(\u001b[38;5;124m\"\u001b[39m\u001b[38;5;124mmodel.lp\u001b[39m\u001b[38;5;124m\"\u001b[39m)\n\u001b[0;32m      6\u001b[0m model\u001b[38;5;241m.\u001b[39mwrite(\u001b[38;5;124m\"\u001b[39m\u001b[38;5;124mmodel.sol\u001b[39m\u001b[38;5;124m\"\u001b[39m)\n",
      "File \u001b[1;32msrc\\\\gurobipy\\\\model.pxi:893\u001b[0m, in \u001b[0;36mgurobipy.Model.optimize\u001b[1;34m()\u001b[0m\n",
      "\u001b[1;31mGurobiError\u001b[0m: Model too large for size-limited license; visit https://gurobi.com/unrestricted for more information"
     ]
    }
   ],
   "source": [
    "# Reduce the size of the model by applying model simplification techniques such as constraint aggregation or variable reduction.\n",
    "# Then, re-run the optimization.\n",
    "\n",
    "model.optimize()\n",
    "model.write(\"model.lp\")\n",
    "model.write(\"model.sol\")\n",
    "if model.Status == GRB.OPTIMAL:\n",
    "    print(\"Optimal solution found\")\n",
    "    for v in model.getVars():\n",
    "        print('%s %g' % (v.varName, v.x))"
   ]
  }
 ],
 "metadata": {
  "kernelspec": {
   "display_name": "Python 3",
   "language": "python",
   "name": "python3"
  },
  "language_info": {
   "codemirror_mode": {
    "name": "ipython",
    "version": 3
   },
   "file_extension": ".py",
   "mimetype": "text/x-python",
   "name": "python",
   "nbconvert_exporter": "python",
   "pygments_lexer": "ipython3",
   "version": "3.12.3"
  }
 },
 "nbformat": 4,
 "nbformat_minor": 2
}
